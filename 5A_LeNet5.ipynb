{
 "cells": [
  {
   "cell_type": "code",
   "execution_count": 29,
   "metadata": {},
   "outputs": [
    {
     "data": {
      "text/plain": [
       "'1.1.0'"
      ]
     },
     "execution_count": 29,
     "metadata": {},
     "output_type": "execute_result"
    }
   ],
   "source": [
    "import torch\n",
    "import torch.nn as nn\n",
    "import torch.nn.functional as F\n",
    "import torch.optim as optim\n",
    "import torchvision\n",
    "from torchvision import datasets, transforms\n",
    "import matplotlib.pyplot as plt\n",
    "import numpy as np\n",
    "torch.__version__"
   ]
  },
  {
   "cell_type": "markdown",
   "metadata": {},
   "source": [
    "### 0. 定义超参数"
   ]
  },
  {
   "cell_type": "code",
   "execution_count": 74,
   "metadata": {},
   "outputs": [],
   "source": [
    "DEVICE = torch.device('cuda' if torch.cuda.is_available() else 'cpu') # 查询GPU是否可用\n",
    "BATCH_SIZE = 256 # Mini-batch大小\n",
    "EPOCHES = 20 # 训练迭代次数"
   ]
  },
  {
   "cell_type": "markdown",
   "metadata": {},
   "source": [
    "### 1. 获取MNIST数据集\n",
    "（Pytorch中自带数据集，不过要联网下载）"
   ]
  },
  {
   "cell_type": "code",
   "execution_count": 75,
   "metadata": {
    "collapsed": true
   },
   "outputs": [],
   "source": [
    "mnist_train = datasets.MNIST('data', train = True, download = True,\n",
    "                        transform = transforms.Compose([\n",
    "                                transforms.ToTensor(),\n",
    "                                transforms.Normalize((0.1307,), (0.3081,))\n",
    "        ]))\n",
    "mnist_test = datasets.MNIST('data', train = False, download = True,\n",
    "                        transform = transforms.Compose([\n",
    "                                transforms.ToTensor(),\n",
    "                                transforms.Normalize((0.1307,), (0.3081,))\n",
    "                        ]))"
   ]
  },
  {
   "cell_type": "markdown",
   "metadata": {},
   "source": [
    "### 2. 创建数据集迭代器"
   ]
  },
  {
   "cell_type": "code",
   "execution_count": 76,
   "metadata": {},
   "outputs": [],
   "source": [
    "train_loader = torch.utils.data.DataLoader(mnist_train, batch_size = 256, shuffle = True)\n",
    "test_loader = torch.utils.data.DataLoader(mnist_test, batch_size = 256, shuffle = True)"
   ]
  },
  {
   "cell_type": "markdown",
   "metadata": {},
   "source": [
    "### 3. 可视化单批量数据集"
   ]
  },
  {
   "cell_type": "code",
   "execution_count": 77,
   "metadata": {
    "scrolled": true
   },
   "outputs": [
    {
     "name": "stderr",
     "output_type": "stream",
     "text": [
      "Clipping input data to the valid range for imshow with RGB data ([0..1] for floats or [0..255] for integers).\n"
     ]
    },
    {
     "data": {
      "image/png": "[encoded data removed]",
      "text/plain": [
       "<Figure size 600x400 with 1 Axes>"
      ]
     },
     "metadata": {
      "needs_background": "light"
     },
     "output_type": "display_data"
    }
   ],
   "source": [
    "def show_batch(data, nrow):\n",
    "    batch_img = torchvision.utils.make_grid(data, nrow)\n",
    "    batch_img = np.array(batch_img)\n",
    "    img = batch_img.transpose((1, 2, 0)) # Pytorch与Numpy存储数据结构不同\n",
    "    plt.figure(dpi = 100)\n",
    "    plt.imshow(img)\n",
    "    \n",
    "for idx, (data, label) in enumerate(train_loader):  \n",
    "    show_batch(data, 16)\n",
    "    break"
   ]
  },
  {
   "cell_type": "markdown",
   "metadata": {},
   "source": [
    "### 4. LeNet5网络结构\n",
    "<img src = \"LeNet5.png\" width = \"80%\">\n",
    "\n",
    "下面除了最后的输出层没用径向基函数单元外，其他基本保持一致.\n",
    "\n",
    "由于C3层采用了如下不对称连接，因此看起来似乎有点复杂:\n",
    "<img src = \"C3.png\" width = \"40%\">"
   ]
  },
  {
   "cell_type": "code",
   "execution_count": 78,
   "metadata": {
    "collapsed": true
   },
   "outputs": [],
   "source": [
    "class LeNet5(nn.Module):\n",
    "    def __init__(self):\n",
    "        super().__init__()\n",
    "        self.C1 = nn.Conv2d(1, 6, kernel_size = 5, stride = 1, padding = 2)\n",
    "        self.C31 = torch.nn.Conv2d(3, 1, kernel_size = 5, stride = 1, padding = 0)\n",
    "        self.C32 = torch.nn.Conv2d(4, 1, kernel_size = 5, stride = 1, padding = 0)\n",
    "        self.C33 = torch.nn.Conv2d(6, 1, kernel_size = 5, stride = 1, padding = 0)\n",
    "        self.C5 = torch.nn.Conv2d(16, 120, kernel_size = 5, stride = 1, padding = 0)\n",
    "        self.F6 = torch.nn.Linear(120, 84)\n",
    "        self.OUT = torch.nn.Linear(84, 10)\n",
    "        \n",
    "    def forward(self, x):\n",
    "        out = self.C1(x)\n",
    "        out = F.relu(out)\n",
    "        out = F.max_pool2d(out, 2, 2)\n",
    "        C3_OUT0 = self.C31(out[:, [0, 1, 2]])\n",
    "        C3_OUT1 = self.C31(out[:, [1, 2, 3]])\n",
    "        C3_OUT2 = self.C31(out[:, [2, 3, 4]])\n",
    "        C3_OUT3 = self.C31(out[:, [3, 4, 5]])\n",
    "        C3_OUT4 = self.C31(out[:, [4, 5, 0]])\n",
    "        C3_OUT5 = self.C31(out[:, [5, 0, 1]])\n",
    "        C3_OUT6 = self.C32(out[:, [0, 1, 2, 3]])\n",
    "        C3_OUT7 = self.C32(out[:, [1, 2, 3, 4]])\n",
    "        C3_OUT8 = self.C32(out[:, [2, 3, 4, 5]])\n",
    "        C3_OUT9 = self.C32(out[:, [3, 4, 5, 0]])\n",
    "        C3_OUT10 = self.C32(out[:, [4, 5, 0, 1]])\n",
    "        C3_OUT11 = self.C32(out[:, [5, 0, 1, 2]])\n",
    "        C3_OUT12 = self.C32(out[:, [0, 1, 3, 4]])\n",
    "        C3_OUT12 = self.C32(out[:, [0, 1, 3, 4]])\n",
    "        C3_OUT13 = self.C32(out[:, [1, 2, 4, 5]])\n",
    "        C3_OUT14 = self.C32(out[:, [0, 2, 3, 5]])\n",
    "        C3_OUT15 = self.C33(out)\n",
    "        out = torch.cat((C3_OUT0, C3_OUT1, C3_OUT2, C3_OUT3, C3_OUT4, C3_OUT5, C3_OUT6, C3_OUT7, \\\n",
    "                   C3_OUT8, C3_OUT9, C3_OUT10, C3_OUT11, C3_OUT12, C3_OUT13, C3_OUT14, C3_OUT15), 1)\n",
    "        out = F.relu(out)\n",
    "        out = F.max_pool2d(out, 2, 2)\n",
    "        out = self.C5(out)\n",
    "        out = F.relu(out)\n",
    "        out = out.view(-1, 120)\n",
    "        out = self.F6(out)\n",
    "        out = F.relu(out)\n",
    "        out = self.OUT(out)\n",
    "        return out"
   ]
  },
  {
   "cell_type": "markdown",
   "metadata": {},
   "source": [
    "### 5. 实例化模型、优化方法、损失函数"
   ]
  },
  {
   "cell_type": "code",
   "execution_count": 79,
   "metadata": {},
   "outputs": [],
   "source": [
    "model = LeNet5().to(DEVICE)\n",
    "optimizer = optim.Adam(model.parameters())\n",
    "lossfunc = nn.CrossEntropyLoss()"
   ]
  },
  {
   "cell_type": "markdown",
   "metadata": {},
   "source": [
    "### 6. 训练和测试函数"
   ]
  },
  {
   "cell_type": "code",
   "execution_count": 80,
   "metadata": {
    "collapsed": true
   },
   "outputs": [],
   "source": [
    "def train(model, device, train_loader, optimizer, epoch):\n",
    "    model.train()\n",
    "    for idx, (data, label) in enumerate(train_loader):\n",
    "        data, label = data.to(device), label.to(device)\n",
    "        optimizer.zero_grad()\n",
    "        output = model(data)\n",
    "        # print(output, target)\n",
    "        loss = lossfunc(output, label)\n",
    "        loss.backward()\n",
    "        optimizer.step()\n",
    "        if (idx + 1) % 60 == 0:\n",
    "            print('Iteration:{} [{}/{} ({:.1f}%)]\\tLoss:{:.6f}'.format(epoch, idx * len(data), len(train_loader.dataset),\n",
    "                                                                       100. * idx / len(train_loader), loss.item()))\n",
    "def test(model, device, test_loader):\n",
    "    model.eval()\n",
    "    test_loss = 0\n",
    "    correct = 0\n",
    "    with torch.no_grad():\n",
    "        for data, label in test_loader:\n",
    "            data, label = data.to(device), label.to(device)\n",
    "            output = model(data)\n",
    "            loss = lossfunc(output, label)\n",
    "            test_loss += loss \n",
    "            pred = output.max(1, keepdim=True)[1]\n",
    "            correct += pred.eq(label.view_as(pred)).sum().item()\n",
    "\n",
    "    test_loss /= len(test_loader.dataset)\n",
    "    print('\\nTest set: Average loss: {:.4f}, Accuracy: {}/{} ({:.0f}%)\\n'.format(\n",
    "        test_loss, correct, len(test_loader.dataset),\n",
    "        100. * correct / len(test_loader.dataset)))"
   ]
  },
  {
   "cell_type": "code",
   "execution_count": 81,
   "metadata": {},
   "outputs": [
    {
     "name": "stdout",
     "output_type": "stream",
     "text": [
      "Iteration:1 [15104/60000 (25.1%)]\tLoss:0.448448\n",
      "Iteration:1 [30464/60000 (50.6%)]\tLoss:0.314048\n",
      "Iteration:1 [45824/60000 (76.2%)]\tLoss:0.236309\n",
      "\n",
      "Test set: Average loss: 0.0008, Accuracy: 9345/10000 (93%)\n",
      "\n",
      "Iteration:2 [15104/60000 (25.1%)]\tLoss:0.129724\n",
      "Iteration:2 [30464/60000 (50.6%)]\tLoss:0.247547\n",
      "Iteration:2 [45824/60000 (76.2%)]\tLoss:0.123488\n",
      "\n",
      "Test set: Average loss: 0.0004, Accuracy: 9689/10000 (97%)\n",
      "\n",
      "Iteration:3 [15104/60000 (25.1%)]\tLoss:0.084803\n",
      "Iteration:3 [30464/60000 (50.6%)]\tLoss:0.103721\n",
      "Iteration:3 [45824/60000 (76.2%)]\tLoss:0.052022\n",
      "\n",
      "Test set: Average loss: 0.0003, Accuracy: 9775/10000 (98%)\n",
      "\n",
      "Iteration:4 [15104/60000 (25.1%)]\tLoss:0.115766\n",
      "Iteration:4 [30464/60000 (50.6%)]\tLoss:0.074479\n",
      "Iteration:4 [45824/60000 (76.2%)]\tLoss:0.081462\n",
      "\n",
      "Test set: Average loss: 0.0002, Accuracy: 9819/10000 (98%)\n",
      "\n",
      "Iteration:5 [15104/60000 (25.1%)]\tLoss:0.082233\n",
      "Iteration:5 [30464/60000 (50.6%)]\tLoss:0.028344\n",
      "Iteration:5 [45824/60000 (76.2%)]\tLoss:0.061126\n",
      "\n",
      "Test set: Average loss: 0.0002, Accuracy: 9844/10000 (98%)\n",
      "\n",
      "Iteration:6 [15104/60000 (25.1%)]\tLoss:0.078602\n",
      "Iteration:6 [30464/60000 (50.6%)]\tLoss:0.054800\n",
      "Iteration:6 [45824/60000 (76.2%)]\tLoss:0.048972\n",
      "\n",
      "Test set: Average loss: 0.0002, Accuracy: 9848/10000 (98%)\n",
      "\n",
      "Iteration:7 [15104/60000 (25.1%)]\tLoss:0.040063\n",
      "Iteration:7 [30464/60000 (50.6%)]\tLoss:0.034611\n",
      "Iteration:7 [45824/60000 (76.2%)]\tLoss:0.020911\n",
      "\n",
      "Test set: Average loss: 0.0002, Accuracy: 9854/10000 (99%)\n",
      "\n",
      "Iteration:8 [15104/60000 (25.1%)]\tLoss:0.081755\n",
      "Iteration:8 [30464/60000 (50.6%)]\tLoss:0.055066\n",
      "Iteration:8 [45824/60000 (76.2%)]\tLoss:0.023702\n",
      "\n",
      "Test set: Average loss: 0.0002, Accuracy: 9852/10000 (99%)\n",
      "\n",
      "Iteration:9 [15104/60000 (25.1%)]\tLoss:0.030939\n",
      "Iteration:9 [30464/60000 (50.6%)]\tLoss:0.023817\n",
      "Iteration:9 [45824/60000 (76.2%)]\tLoss:0.006315\n",
      "\n",
      "Test set: Average loss: 0.0002, Accuracy: 9870/10000 (99%)\n",
      "\n",
      "Iteration:10 [15104/60000 (25.1%)]\tLoss:0.009737\n",
      "Iteration:10 [30464/60000 (50.6%)]\tLoss:0.051639\n",
      "Iteration:10 [45824/60000 (76.2%)]\tLoss:0.046995\n",
      "\n",
      "Test set: Average loss: 0.0002, Accuracy: 9875/10000 (99%)\n",
      "\n",
      "Iteration:11 [15104/60000 (25.1%)]\tLoss:0.010124\n",
      "Iteration:11 [30464/60000 (50.6%)]\tLoss:0.011969\n",
      "Iteration:11 [45824/60000 (76.2%)]\tLoss:0.011453\n",
      "\n",
      "Test set: Average loss: 0.0002, Accuracy: 9870/10000 (99%)\n",
      "\n",
      "Iteration:12 [15104/60000 (25.1%)]\tLoss:0.020690\n",
      "Iteration:12 [30464/60000 (50.6%)]\tLoss:0.017705\n",
      "Iteration:12 [45824/60000 (76.2%)]\tLoss:0.088820\n",
      "\n",
      "Test set: Average loss: 0.0001, Accuracy: 9887/10000 (99%)\n",
      "\n",
      "Iteration:13 [15104/60000 (25.1%)]\tLoss:0.045640\n",
      "Iteration:13 [30464/60000 (50.6%)]\tLoss:0.052911\n",
      "Iteration:13 [45824/60000 (76.2%)]\tLoss:0.022392\n",
      "\n",
      "Test set: Average loss: 0.0001, Accuracy: 9897/10000 (99%)\n",
      "\n",
      "Iteration:14 [15104/60000 (25.1%)]\tLoss:0.013257\n",
      "Iteration:14 [30464/60000 (50.6%)]\tLoss:0.038527\n",
      "Iteration:14 [45824/60000 (76.2%)]\tLoss:0.057985\n",
      "\n",
      "Test set: Average loss: 0.0001, Accuracy: 9887/10000 (99%)\n",
      "\n",
      "Iteration:15 [15104/60000 (25.1%)]\tLoss:0.013026\n",
      "Iteration:15 [30464/60000 (50.6%)]\tLoss:0.010206\n",
      "Iteration:15 [45824/60000 (76.2%)]\tLoss:0.002454\n",
      "\n",
      "Test set: Average loss: 0.0002, Accuracy: 9867/10000 (99%)\n",
      "\n",
      "Iteration:16 [15104/60000 (25.1%)]\tLoss:0.020250\n",
      "Iteration:16 [30464/60000 (50.6%)]\tLoss:0.017512\n",
      "Iteration:16 [45824/60000 (76.2%)]\tLoss:0.007165\n",
      "\n",
      "Test set: Average loss: 0.0002, Accuracy: 9878/10000 (99%)\n",
      "\n",
      "Iteration:17 [15104/60000 (25.1%)]\tLoss:0.025133\n",
      "Iteration:17 [30464/60000 (50.6%)]\tLoss:0.012624\n",
      "Iteration:17 [45824/60000 (76.2%)]\tLoss:0.010155\n",
      "\n",
      "Test set: Average loss: 0.0002, Accuracy: 9879/10000 (99%)\n",
      "\n",
      "Iteration:18 [15104/60000 (25.1%)]\tLoss:0.003280\n",
      "Iteration:18 [30464/60000 (50.6%)]\tLoss:0.018077\n",
      "Iteration:18 [45824/60000 (76.2%)]\tLoss:0.016604\n",
      "\n",
      "Test set: Average loss: 0.0002, Accuracy: 9885/10000 (99%)\n",
      "\n",
      "Iteration:19 [15104/60000 (25.1%)]\tLoss:0.003010\n",
      "Iteration:19 [30464/60000 (50.6%)]\tLoss:0.053470\n",
      "Iteration:19 [45824/60000 (76.2%)]\tLoss:0.031436\n",
      "\n",
      "Test set: Average loss: 0.0002, Accuracy: 9836/10000 (98%)\n",
      "\n",
      "Iteration:20 [15104/60000 (25.1%)]\tLoss:0.010365\n",
      "Iteration:20 [30464/60000 (50.6%)]\tLoss:0.002980\n",
      "Iteration:20 [45824/60000 (76.2%)]\tLoss:0.002259\n",
      "\n",
      "Test set: Average loss: 0.0002, Accuracy: 9882/10000 (99%)\n",
      "\n"
     ]
    }
   ],
   "source": [
    "for i in range(1, EPOCHES + 1):\n",
    "    train(model, DEVICE, train_loader, optimizer, i)\n",
    "    test(model, DEVICE, test_loader)"
   ]
  },
  {
   "cell_type": "code",
   "execution_count": null,
   "metadata": {
    "collapsed": true
   },
   "outputs": [],
   "source": []
  }
 ],
 "metadata": {
  "kernelspec": {
   "display_name": "Python for DeepLearning",
   "language": "python",
   "name": "pytorch"
  },
  "language_info": {
   "codemirror_mode": {
    "name": "ipython",
    "version": 3
   },
   "file_extension": ".py",
   "mimetype": "text/x-python",
   "name": "python",
   "nbconvert_exporter": "python",
   "pygments_lexer": "ipython3",
   "version": "3.6.8"
  }
 },
 "nbformat": 4,
 "nbformat_minor": 2
}
